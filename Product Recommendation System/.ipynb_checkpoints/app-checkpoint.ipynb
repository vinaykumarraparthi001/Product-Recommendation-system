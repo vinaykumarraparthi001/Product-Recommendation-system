{
 "cells": [
  {
   "cell_type": "code",
   "execution_count": null,
   "id": "5177e3db",
   "metadata": {},
   "outputs": [],
   "source": [
    "from flask import Flask, render_template, request\n",
    "import pandas as pd\n",
    "\n",
    "# Import the function that we created earlier for recommending Airbnb listings\n",
    "from recommend import recommend_listings_text\n",
    "\n",
    "app = Flask(__name__)\n",
    "\n",
    "# Define the home page\n",
    "@app.route('/')\n",
    "def home():\n",
    "    return render_template('index.html')\n",
    "\n",
    "# Define the page that displays the recommended Airbnb listings\n",
    "@app.route('/recommend', methods=['POST'])\n",
    "def recommend():\n",
    "    input_text = request.form['text'] # Get the user's input text\n",
    "    df_recommend = recommend_listings_text(input_text) # Call the recommend function\n",
    "    \n",
    "    # Convert the dataframe to a list of dictionaries\n",
    "    listings = df_recommend.to_dict('records')\n",
    "    \n",
    "    # Render the page that displays the recommended listings\n",
    "    return render_template('recommend.html', listings=listings)\n",
    "\n",
    "if __name__ == '__main__':\n",
    "    app.run(debug=True)\n"
   ]
  }
 ],
 "metadata": {
  "kernelspec": {
   "display_name": "Python 3 (ipykernel)",
   "language": "python",
   "name": "python3"
  },
  "language_info": {
   "codemirror_mode": {
    "name": "ipython",
    "version": 3
   },
   "file_extension": ".py",
   "mimetype": "text/x-python",
   "name": "python",
   "nbconvert_exporter": "python",
   "pygments_lexer": "ipython3",
   "version": "3.9.13"
  }
 },
 "nbformat": 4,
 "nbformat_minor": 5
}
